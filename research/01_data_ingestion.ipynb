{
 "cells": [
  {
   "cell_type": "code",
   "execution_count": 1,
   "metadata": {},
   "outputs": [],
   "source": [
    "import os"
   ]
  },
  {
   "cell_type": "code",
   "execution_count": 2,
   "metadata": {},
   "outputs": [
    {
     "data": {
      "text/plain": [
       "'d:\\\\DS\\\\Projects\\\\DL\\\\Workplace-Safety-Detection-CV\\\\research'"
      ]
     },
     "execution_count": 2,
     "metadata": {},
     "output_type": "execute_result"
    }
   ],
   "source": [
    "%pwd"
   ]
  },
  {
   "cell_type": "code",
   "execution_count": 3,
   "metadata": {},
   "outputs": [],
   "source": [
    "os.chdir(\"../\")"
   ]
  },
  {
   "cell_type": "code",
   "execution_count": 4,
   "metadata": {},
   "outputs": [
    {
     "data": {
      "text/plain": [
       "'d:\\\\DS\\\\Projects\\\\DL\\\\Workplace-Safety-Detection-CV'"
      ]
     },
     "execution_count": 4,
     "metadata": {},
     "output_type": "execute_result"
    }
   ],
   "source": [
    "%pwd"
   ]
  },
  {
   "cell_type": "code",
   "execution_count": 5,
   "metadata": {},
   "outputs": [],
   "source": [
    "from dataclasses import dataclass\n",
    "from pathlib import Path\n",
    "\n",
    "@dataclass(frozen=True)\n",
    "class DataIngestionConfig:\n",
    "    root_dir: Path\n",
    "    source_URL: str\n",
    "    local_data_file: Path\n",
    "    unzip_dir: Path\n",
    "    dataset_name: str\n",
    "    data_yaml_file: Path"
   ]
  },
  {
   "cell_type": "code",
   "execution_count": 6,
   "metadata": {},
   "outputs": [],
   "source": [
    "import os\n",
    "from CV.constants import *\n",
    "from CV.utils.common import read_yaml, create_directories\n",
    "from CV.entity.config_entity import DataIngestionConfig\n",
    "\n",
    "class ConfigurationManager:\n",
    "    def __init__(\n",
    "        self,\n",
    "        config_filepath = CONFIG_FILE_PATH,\n",
    "        params_filepath = PARAMS_FILE_PATH):\n",
    "\n",
    "        self.config = read_yaml(config_filepath)\n",
    "        self.params = read_yaml(params_filepath)\n",
    "\n",
    "        create_directories([self.config.artifacts_root])\n",
    "\n",
    "\n",
    "    \n",
    "    def get_data_ingestion_config(self) -> DataIngestionConfig:\n",
    "        config = self.config.data_ingestion\n",
    "\n",
    "        create_directories([config.root_dir])\n",
    "\n",
    "        data_ingestion_config = DataIngestionConfig(\n",
    "            root_dir=config.root_dir,\n",
    "            source_URL=config.source_URL,\n",
    "            local_data_file=config.local_data_file,\n",
    "            unzip_dir=config.unzip_dir, \n",
    "            dataset_name=config.dataset_name,\n",
    "            data_yaml_file=config.data_yaml_file\n",
    "        )\n",
    "        return data_ingestion_config"
   ]
  },
  {
   "cell_type": "code",
   "execution_count": 7,
   "metadata": {},
   "outputs": [],
   "source": [
    "import os\n",
    "import zipfile\n",
    "import yaml\n",
    "import gdown\n",
    "from CV import logger\n",
    "from CV.entity.config_entity import DataIngestionConfig\n",
    "from pathlib import Path\n",
    "\n",
    "class DataIngestion:\n",
    "    def __init__(self, config: DataIngestionConfig):\n",
    "        self.config = config\n",
    "\n",
    "\n",
    "    \n",
    "     \n",
    "    def download_file(self)-> str:\n",
    "        '''\n",
    "        Fetch data from the url\n",
    "        '''\n",
    "\n",
    "        try: \n",
    "            dataset_url = self.config.source_URL\n",
    "            zip_download_dir = self.config.local_data_file\n",
    "            os.makedirs(\"artifacts/data_ingestion\", exist_ok=True)\n",
    "            logger.info(f\"Downloading data from {dataset_url} into file {zip_download_dir}\")\n",
    "\n",
    "            file_id = dataset_url.split(\"/\")[-2]\n",
    "            prefix = 'https://drive.google.com/uc?/export=download&id='\n",
    "            gdown.download(prefix+file_id,zip_download_dir)\n",
    "\n",
    "            logger.info(f\"Downloaded data from {dataset_url} into file {zip_download_dir}\")\n",
    "\n",
    "        except Exception as e:\n",
    "            raise e\n",
    "        \n",
    "    \n",
    "    def extract_zip_file(self):\n",
    "        \"\"\"\n",
    "        zip_file_path: str\n",
    "        Extracts the zip file into the data directory\n",
    "        Function returns None\n",
    "        \"\"\"\n",
    "        unzip_path = self.config.unzip_dir\n",
    "        os.makedirs(unzip_path, exist_ok=True)\n",
    "        with zipfile.ZipFile(self.config.local_data_file, 'r') as zip_ref:\n",
    "            zip_ref.extractall(unzip_path)\n",
    "\n",
    "\n",
    "\n",
    "\n",
    "    def update_data_yaml_file(self):\n",
    "        \"\"\"\n",
    "        Modify paths inside a data.yaml file.\n",
    "\n",
    "        Returns:\n",
    "            None: The function modifies the file in-place.\n",
    "        \"\"\"\n",
    "\n",
    "        # Path to the data.yaml file\n",
    "        data_yaml_path = Path(\"artifacts/data_ingestion/Workplace-Safety-Dataset/data.yaml\")\n",
    "        new_paths={\n",
    "            \"train\": \"artifacts/data_ingestion/Workplace-Safety-Dataset/train/images\",\n",
    "            \"val\": \"artifacts/data_ingestion/Workplace-Safety-Dataset/valid/images\",\n",
    "            \"test\": \"artifacts/data_ingestion/Workplace-Safety-Dataset/test/images\"\n",
    "            }\n",
    "\n",
    "        # Load the data.yaml file\n",
    "        if not data_yaml_path.is_file():\n",
    "            raise FileNotFoundError(f\"data.yaml file not found at {data_yaml_path}\")\n",
    "\n",
    "\n",
    "\n",
    "        with open(data_yaml_path, \"r\") as f:\n",
    "            data_yaml = yaml.safe_load(f)\n",
    "\n",
    "\n",
    "        # Modify the paths\n",
    "        for key, new_path in new_paths.items():\n",
    "            try:\n",
    "                data_yaml[key] = new_path\n",
    "            except Exception as e:\n",
    "                raise e\n",
    "    \n",
    "        # Save the updated data.yaml\n",
    "        with open(data_yaml_path, \"w\") as f:\n",
    "            yaml.dump(data_yaml, f)\n",
    " \n",
    "        with open(data_yaml_path, \"r\") as f:\n",
    "            data_yaml = yaml.safe_load(f)\n",
    "    \n",
    "        # Resolve the paths for train and val\n",
    "        train_path = Path(data_yaml[\"train\"]).resolve()\n",
    "        val_path = Path(data_yaml[\"val\"]).resolve()\n",
    "        test_path = Path(data_yaml[\"test\"]).resolve()\n",
    "\n",
    "        # Check if the directories exist\n",
    "        if not train_path.is_dir():\n",
    "            raise FileNotFoundError(f\"Training directory not found: {train_path}\")\n",
    "\n",
    "        if not val_path.is_dir():\n",
    "            raise FileNotFoundError(f\"Validation directory not found: {val_path}\")\n",
    "\n",
    "        # Update the paths in the data.yaml dictionary\n",
    "        data_yaml[\"train\"] = str(train_path)\n",
    "        data_yaml[\"val\"] = str(val_path)\n",
    "        data_yaml[\"test\"] = str(test_path)\n",
    "\n",
    "        # Save the updated data.yaml\n",
    "        with open(data_yaml_path, \"w\") as f:\n",
    "            yaml.dump(data_yaml, f)"
   ]
  },
  {
   "cell_type": "code",
   "execution_count": 8,
   "metadata": {},
   "outputs": [
    {
     "name": "stdout",
     "output_type": "stream",
     "text": [
      "[2025-01-22 21:03:59,266: INFO: common: yaml file: config\\config.yaml loaded successfully]\n",
      "[2025-01-22 21:03:59,273: INFO: common: yaml file: params.yaml loaded successfully]\n",
      "[2025-01-22 21:03:59,275: INFO: common: created directory at: artifacts]\n",
      "[2025-01-22 21:03:59,277: INFO: common: created directory at: artifacts/data_ingestion]\n",
      "[2025-01-22 21:03:59,279: INFO: 615811023: Downloading data from https://drive.google.com/file/d/1297WLL9_ULuZtsnYN_SOseNEiEbv15Dd/view?usp=sharing into file artifacts/data_ingestion/data.zip]\n"
     ]
    },
    {
     "name": "stderr",
     "output_type": "stream",
     "text": [
      "Downloading...\n",
      "From (original): https://drive.google.com/uc?/export=download&id=1297WLL9_ULuZtsnYN_SOseNEiEbv15Dd\n",
      "From (redirected): https://drive.google.com/uc?%2Fexport=download&id=1297WLL9_ULuZtsnYN_SOseNEiEbv15Dd&confirm=t&uuid=0fcc9e75-48fa-44b8-9d70-766506deeb44\n",
      "To: d:\\DS\\Projects\\DL\\Workplace-Safety-Detection-CV\\artifacts\\data_ingestion\\data.zip\n",
      "100%|██████████| 102M/102M [00:24<00:00, 4.13MB/s] "
     ]
    },
    {
     "name": "stdout",
     "output_type": "stream",
     "text": [
      "[2025-01-22 21:04:28,528: INFO: 615811023: Downloaded data from https://drive.google.com/file/d/1297WLL9_ULuZtsnYN_SOseNEiEbv15Dd/view?usp=sharing into file artifacts/data_ingestion/data.zip]\n"
     ]
    },
    {
     "name": "stderr",
     "output_type": "stream",
     "text": [
      "\n"
     ]
    }
   ],
   "source": [
    "try:\n",
    "    config = ConfigurationManager()\n",
    "    data_ingestion_config = config.get_data_ingestion_config()\n",
    "    data_ingestion = DataIngestion(config=data_ingestion_config)\n",
    "    data_ingestion.download_file()\n",
    "    data_ingestion.extract_zip_file()\n",
    "    data_ingestion.update_data_yaml_file()\n",
    "except Exception as e:\n",
    "    raise e"
   ]
  }
 ],
 "metadata": {
  "kernelspec": {
   "display_name": "WSDCV",
   "language": "python",
   "name": "python3"
  },
  "language_info": {
   "codemirror_mode": {
    "name": "ipython",
    "version": 3
   },
   "file_extension": ".py",
   "mimetype": "text/x-python",
   "name": "python",
   "nbconvert_exporter": "python",
   "pygments_lexer": "ipython3",
   "version": "3.10.16"
  },
  "orig_nbformat": 4
 },
 "nbformat": 4,
 "nbformat_minor": 2
}
