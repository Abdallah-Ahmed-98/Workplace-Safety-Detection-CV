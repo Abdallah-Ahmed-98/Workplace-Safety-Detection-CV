{
 "cells": [
  {
   "cell_type": "code",
   "execution_count": 1,
   "metadata": {},
   "outputs": [],
   "source": [
    "import os"
   ]
  },
  {
   "cell_type": "code",
   "execution_count": 2,
   "metadata": {},
   "outputs": [
    {
     "data": {
      "text/plain": [
       "'d:\\\\DS\\\\Projects\\\\DL\\\\Workplace-Safety-Detection-CV\\\\research'"
      ]
     },
     "execution_count": 2,
     "metadata": {},
     "output_type": "execute_result"
    }
   ],
   "source": [
    "%pwd"
   ]
  },
  {
   "cell_type": "code",
   "execution_count": 3,
   "metadata": {},
   "outputs": [],
   "source": [
    "os.chdir(\"../\")"
   ]
  },
  {
   "cell_type": "code",
   "execution_count": 4,
   "metadata": {},
   "outputs": [
    {
     "data": {
      "text/plain": [
       "'d:\\\\DS\\\\Projects\\\\DL\\\\Workplace-Safety-Detection-CV'"
      ]
     },
     "execution_count": 4,
     "metadata": {},
     "output_type": "execute_result"
    }
   ],
   "source": [
    "%pwd"
   ]
  },
  {
   "cell_type": "code",
   "execution_count": 5,
   "metadata": {},
   "outputs": [],
   "source": [
    "from dataclasses import dataclass\n",
    "from pathlib import Path\n",
    "from typing import List\n",
    "\n",
    "\n",
    "@dataclass(frozen=True)\n",
    "class ModelPreparationAndTrainingConfig:\n",
    "    root_dir: Path                      \n",
    "    data_yaml_file: Path\n",
    "    yolo_model: Path\n",
    "    params_device: str\n",
    "    params_image_size: List[int]   \n",
    "    params_epochs: int                  \n",
    "    params_batch_size: int              \n",
    "    params_learning_rate_0: float\n",
    "    params_learning_rate_f: float  \n",
    "    params_augmentation: bool             \n",
    "    params_augmentation_hyperparams: dict               "
   ]
  },
  {
   "cell_type": "code",
   "execution_count": 6,
   "metadata": {},
   "outputs": [],
   "source": [
    "import os\n",
    "from CV.constants import *\n",
    "from CV.utils.common import read_yaml, create_directories\n",
    "from CV.entity.config_entity import ModelPreparationAndTrainingConfig\n",
    "\n",
    "class ConfigurationManager:\n",
    "    def __init__(\n",
    "        self,\n",
    "        config_filepath = CONFIG_FILE_PATH,\n",
    "        params_filepath = PARAMS_FILE_PATH):\n",
    "\n",
    "        self.config = read_yaml(config_filepath)\n",
    "        self.params = read_yaml(params_filepath)\n",
    "\n",
    "        create_directories([self.config.artifacts_root])\n",
    "\n",
    "\n",
    "    def get_model_preparation_and_training_config(self) -> ModelPreparationAndTrainingConfig:\n",
    "        config = self.config.model_preparation_and_training\n",
    "        params = self.params\n",
    "\n",
    "        create_directories([config.root_dir])\n",
    "\n",
    "        model_preparation_and_training_config = ModelPreparationAndTrainingConfig(\n",
    "            root_dir=Path(config.root_dir),\n",
    "            data_yaml_file=Path(config.data_yaml_file),\n",
    "            yolo_model=Path(config.yolo_model),\n",
    "            params_device=params.DEVICE,\n",
    "            params_image_size=params.IMAGE_SIZE,\n",
    "            params_epochs=params.EPOCHS,\n",
    "            params_batch_size=params.BATCH_SIZE,\n",
    "            params_learning_rate_0=params.LEARNING_RATE_0,\n",
    "            params_learning_rate_f=params.LEARNING_RATE_F,\n",
    "            params_augmentation=params.AUGMENTATION,\n",
    "            params_augmentation_hyperparams=params.AUGMENTATION_HYPERPARAMS,\n",
    "        )\n",
    "\n",
    "        return model_preparation_and_training_config\n"
   ]
  },
  {
   "cell_type": "code",
   "execution_count": 7,
   "metadata": {},
   "outputs": [],
   "source": [
    "import os\n",
    "from ultralytics import YOLO\n",
    "from CV.entity.config_entity import ModelPreparationAndTrainingConfig\n",
    "from pathlib import Path\n",
    "\n",
    "                                                \n",
    "\n",
    "class YOLOModelTrainer:\n",
    "    def __init__(self, config: ModelPreparationAndTrainingConfig):\n",
    "\n",
    "        self.config = config\n",
    "\n",
    "    def prepare_and_train_yolo_model(self):\n",
    "        \"\"\"\n",
    "        Prepare and configure the YOLO model with the specified parameters.\n",
    "        Train the YOLO model using the provided data configuration.\n",
    "        \"\"\"\n",
    "        yolo_model_path = os.path.join(self.config.root_dir, self.config.yolo_model)\n",
    "\n",
    "        # Load YOLO model\n",
    "        try:\n",
    "            yolo_model = YOLO(yolo_model_path)\n",
    "        except FileNotFoundError as e:\n",
    "            raise FileNotFoundError(f\"YOLO model file not found at {yolo_model_path}\") from e\n",
    "\n",
    "        # Apply learning rate\n",
    "        yolo_model.overrides['lr0'] = self.config.params_learning_rate_0\n",
    "        yolo_model.overrides['lrf'] = self.config.params_learning_rate_f\n",
    "\n",
    "        # Conditionally apply augmentation hyperparameters\n",
    "        if self.config.params_augmentation:\n",
    "            yolo_model.overrides.update(self.config.params_augmentation_hyperparams)\n",
    "\n",
    "        # Dynamically resolve the output directory\n",
    "        base_dir = Path(os.getcwd()).resolve()  # Get the directory of the script\n",
    "        output_dir = base_dir / self.config.root_dir\n",
    "\n",
    "        # Ensure the output directory exists\n",
    "        output_dir.mkdir(parents=True, exist_ok=True)\n",
    "\n",
    "        # Train the YOLO model\n",
    "        try:\n",
    "            # Train the model\n",
    "            yolo_model.train(\n",
    "                data=self.config.data_yaml_file,\n",
    "                epochs=self.config.params_epochs,\n",
    "                imgsz=self.config.params_image_size,\n",
    "                batch=self.config.params_batch_size,\n",
    "                device=self.config.params_device,\n",
    "                workers=0,  # Avoid multiprocessing issues\n",
    "                project=str(output_dir),  # Convert Path to string for YOLOv8\n",
    "                name=\"yolov8n_training\"  # Custom name for this run\n",
    "            )\n",
    "\n",
    "            # Delete the file at the specified path if it exists.\n",
    "            file = Path(\"yolo11n.pt\")\n",
    "\n",
    "            if file.exists():\n",
    "                file.unlink()  # Delete the file\n",
    "                print(f\"Deleted file: {file}\")\n",
    "            else:\n",
    "                print(f\"No file found at: {file}\")\n",
    "        \n",
    "        except Exception as e:\n",
    "                raise e"
   ]
  },
  {
   "cell_type": "code",
   "execution_count": 8,
   "metadata": {},
   "outputs": [
    {
     "name": "stdout",
     "output_type": "stream",
     "text": [
      "[2025-01-22 21:04:46,941: INFO: common: yaml file: config\\config.yaml loaded successfully]\n",
      "[2025-01-22 21:04:46,946: INFO: common: yaml file: params.yaml loaded successfully]\n",
      "[2025-01-22 21:04:46,947: INFO: common: created directory at: artifacts]\n",
      "[2025-01-22 21:04:46,948: INFO: common: created directory at: artifacts/model_preparation_and_training]\n",
      "Downloading https://github.com/ultralytics/assets/releases/download/v8.3.0/yolov8n.pt to 'artifacts\\model_preparation_and_training\\yolov8n.pt'...\n"
     ]
    },
    {
     "name": "stderr",
     "output_type": "stream",
     "text": [
      "100%|██████████| 6.25M/6.25M [00:00<00:00, 6.59MB/s]\n"
     ]
    },
    {
     "name": "stdout",
     "output_type": "stream",
     "text": [
      "Ultralytics 8.3.65  Python-3.10.16 torch-2.5.1+cu124 CUDA:0 (NVIDIA GeForce GTX 1050 Ti, 4096MiB)\n",
      "\u001b[34m\u001b[1mengine\\trainer: \u001b[0mtask=detect, mode=train, model=artifacts\\model_preparation_and_training\\yolov8n.pt, data=artifacts\\data_ingestion\\Workplace-Safety-Dataset\\data.yaml, epochs=3, time=None, patience=100, batch=16, imgsz=640, save=True, save_period=-1, cache=False, device=cuda:0, workers=0, project=D:\\DS\\Projects\\DL\\Workplace-Safety-Detection-CV\\artifacts\\model_preparation_and_training, name=yolov8n_training, exist_ok=False, pretrained=True, optimizer=auto, verbose=True, seed=0, deterministic=True, single_cls=False, rect=False, cos_lr=False, close_mosaic=10, resume=False, amp=True, fraction=1.0, profile=False, freeze=None, multi_scale=False, overlap_mask=True, mask_ratio=4, dropout=0.0, val=True, split=val, save_json=False, save_hybrid=False, conf=None, iou=0.7, max_det=300, half=False, dnn=False, plots=True, source=None, vid_stride=1, stream_buffer=False, visualize=False, augment=False, agnostic_nms=False, classes=None, retina_masks=False, embed=None, show=False, save_frames=False, save_txt=False, save_conf=False, save_crop=False, show_labels=True, show_conf=True, show_boxes=True, line_width=None, format=torchscript, keras=False, optimize=False, int8=False, dynamic=False, simplify=True, opset=None, workspace=None, nms=False, lr0=0.01, lrf=0.01, momentum=0.937, weight_decay=0.0005, warmup_epochs=3.0, warmup_momentum=0.8, warmup_bias_lr=0.1, box=7.5, cls=0.5, dfl=1.5, pose=12.0, kobj=1.0, nbs=64, hsv_h=0.015, hsv_s=0.7, hsv_v=0.4, degrees=0.0, translate=0.1, scale=0.5, shear=0.0, perspective=0.0, flipud=0.0, fliplr=0.5, bgr=0.0, mosaic=1.0, mixup=0.0, copy_paste=0.0, copy_paste_mode=flip, auto_augment=randaugment, erasing=0.4, crop_fraction=1.0, cfg=None, tracker=botsort.yaml, save_dir=D:\\DS\\Projects\\DL\\Workplace-Safety-Detection-CV\\artifacts\\model_preparation_and_training\\yolov8n_training\n",
      "Overriding model.yaml nc=80 with nc=8\n",
      "\n",
      "                   from  n    params  module                                       arguments                     \n",
      "  0                  -1  1       464  ultralytics.nn.modules.conv.Conv             [3, 16, 3, 2]                 \n",
      "  1                  -1  1      4672  ultralytics.nn.modules.conv.Conv             [16, 32, 3, 2]                \n",
      "  2                  -1  1      7360  ultralytics.nn.modules.block.C2f             [32, 32, 1, True]             \n",
      "  3                  -1  1     18560  ultralytics.nn.modules.conv.Conv             [32, 64, 3, 2]                \n",
      "  4                  -1  2     49664  ultralytics.nn.modules.block.C2f             [64, 64, 2, True]             \n",
      "  5                  -1  1     73984  ultralytics.nn.modules.conv.Conv             [64, 128, 3, 2]               \n",
      "  6                  -1  2    197632  ultralytics.nn.modules.block.C2f             [128, 128, 2, True]           \n",
      "  7                  -1  1    295424  ultralytics.nn.modules.conv.Conv             [128, 256, 3, 2]              \n",
      "  8                  -1  1    460288  ultralytics.nn.modules.block.C2f             [256, 256, 1, True]           \n",
      "  9                  -1  1    164608  ultralytics.nn.modules.block.SPPF            [256, 256, 5]                 \n",
      " 10                  -1  1         0  torch.nn.modules.upsampling.Upsample         [None, 2, 'nearest']          \n",
      " 11             [-1, 6]  1         0  ultralytics.nn.modules.conv.Concat           [1]                           \n",
      " 12                  -1  1    148224  ultralytics.nn.modules.block.C2f             [384, 128, 1]                 \n",
      " 13                  -1  1         0  torch.nn.modules.upsampling.Upsample         [None, 2, 'nearest']          \n",
      " 14             [-1, 4]  1         0  ultralytics.nn.modules.conv.Concat           [1]                           \n",
      " 15                  -1  1     37248  ultralytics.nn.modules.block.C2f             [192, 64, 1]                  \n",
      " 16                  -1  1     36992  ultralytics.nn.modules.conv.Conv             [64, 64, 3, 2]                \n",
      " 17            [-1, 12]  1         0  ultralytics.nn.modules.conv.Concat           [1]                           \n",
      " 18                  -1  1    123648  ultralytics.nn.modules.block.C2f             [192, 128, 1]                 \n",
      " 19                  -1  1    147712  ultralytics.nn.modules.conv.Conv             [128, 128, 3, 2]              \n",
      " 20             [-1, 9]  1         0  ultralytics.nn.modules.conv.Concat           [1]                           \n",
      " 21                  -1  1    493056  ultralytics.nn.modules.block.C2f             [384, 256, 1]                 \n",
      " 22        [15, 18, 21]  1    752872  ultralytics.nn.modules.head.Detect           [8, [64, 128, 256]]           \n",
      "Model summary: 225 layers, 3,012,408 parameters, 3,012,392 gradients, 8.2 GFLOPs\n",
      "\n",
      "Transferred 319/355 items from pretrained weights\n",
      "Freezing layer 'model.22.dfl.conv.weight'\n",
      "\u001b[34m\u001b[1mAMP: \u001b[0mrunning Automatic Mixed Precision (AMP) checks...\n",
      "Downloading https://github.com/ultralytics/assets/releases/download/v8.3.0/yolo11n.pt to 'yolo11n.pt'...\n"
     ]
    },
    {
     "name": "stderr",
     "output_type": "stream",
     "text": [
      "100%|██████████| 5.35M/5.35M [00:00<00:00, 6.12MB/s]\n"
     ]
    },
    {
     "name": "stdout",
     "output_type": "stream",
     "text": [
      "\u001b[34m\u001b[1mAMP: \u001b[0mchecks passed \n"
     ]
    },
    {
     "name": "stderr",
     "output_type": "stream",
     "text": [
      "\u001b[34m\u001b[1mtrain: \u001b[0mScanning D:\\DS\\Projects\\DL\\Workplace-Safety-Detection-CV\\artifacts\\data_ingestion\\Workplace-Safety-Dataset\\train\\labels... 1119 images, 0 backgrounds, 0 corrupt: 100%|██████████| 1119/1119 [00:03<00:00, 368.13it/s]"
     ]
    },
    {
     "name": "stdout",
     "output_type": "stream",
     "text": [
      "\u001b[34m\u001b[1mtrain: \u001b[0mWARNING  D:\\DS\\Projects\\DL\\Workplace-Safety-Detection-CV\\artifacts\\data_ingestion\\Workplace-Safety-Dataset\\train\\images\\Video2_167_jpg.rf.ecac3a2bd007ef8b995c3da9a574c55f.jpg: 1 duplicate labels removed\n",
      "\u001b[34m\u001b[1mtrain: \u001b[0mWARNING  D:\\DS\\Projects\\DL\\Workplace-Safety-Detection-CV\\artifacts\\data_ingestion\\Workplace-Safety-Dataset\\train\\images\\Video2_167_jpg.rf.f51c1db34bc3315314a8d3dbb3bd8e8d.jpg: 1 duplicate labels removed\n"
     ]
    },
    {
     "name": "stderr",
     "output_type": "stream",
     "text": [
      "\n"
     ]
    },
    {
     "name": "stdout",
     "output_type": "stream",
     "text": [
      "\u001b[34m\u001b[1mtrain: \u001b[0mNew cache created: D:\\DS\\Projects\\DL\\Workplace-Safety-Detection-CV\\artifacts\\data_ingestion\\Workplace-Safety-Dataset\\train\\labels.cache\n"
     ]
    },
    {
     "name": "stderr",
     "output_type": "stream",
     "text": [
      "\u001b[34m\u001b[1mval: \u001b[0mScanning D:\\DS\\Projects\\DL\\Workplace-Safety-Detection-CV\\artifacts\\data_ingestion\\Workplace-Safety-Dataset\\valid\\labels... 325 images, 0 backgrounds, 0 corrupt: 100%|██████████| 325/325 [00:00<00:00, 350.35it/s]"
     ]
    },
    {
     "name": "stdout",
     "output_type": "stream",
     "text": [
      "\u001b[34m\u001b[1mval: \u001b[0mNew cache created: D:\\DS\\Projects\\DL\\Workplace-Safety-Detection-CV\\artifacts\\data_ingestion\\Workplace-Safety-Dataset\\valid\\labels.cache\n"
     ]
    },
    {
     "name": "stderr",
     "output_type": "stream",
     "text": [
      "\n"
     ]
    },
    {
     "name": "stdout",
     "output_type": "stream",
     "text": [
      "Plotting labels to D:\\DS\\Projects\\DL\\Workplace-Safety-Detection-CV\\artifacts\\model_preparation_and_training\\yolov8n_training\\labels.jpg... \n",
      "\u001b[34m\u001b[1moptimizer:\u001b[0m 'optimizer=auto' found, ignoring 'lr0=0.01' and 'momentum=0.937' and determining best 'optimizer', 'lr0' and 'momentum' automatically... \n",
      "\u001b[34m\u001b[1moptimizer:\u001b[0m AdamW(lr=0.000833, momentum=0.9) with parameter groups 57 weight(decay=0.0), 64 weight(decay=0.0005), 63 bias(decay=0.0)\n",
      "Image sizes 640 train, 640 val\n",
      "Using 0 dataloader workers\n",
      "Logging results to \u001b[1mD:\\DS\\Projects\\DL\\Workplace-Safety-Detection-CV\\artifacts\\model_preparation_and_training\\yolov8n_training\u001b[0m\n",
      "Starting training for 3 epochs...\n",
      "\n",
      "      Epoch    GPU_mem   box_loss   cls_loss   dfl_loss  Instances       Size\n"
     ]
    },
    {
     "name": "stderr",
     "output_type": "stream",
     "text": [
      "        1/3      2.33G      1.165      2.306      1.313        102        640: 100%|██████████| 70/70 [01:18<00:00,  1.13s/it]\n",
      "                 Class     Images  Instances      Box(P          R      mAP50  mAP50-95): 100%|██████████| 11/11 [00:10<00:00,  1.06it/s]"
     ]
    },
    {
     "name": "stdout",
     "output_type": "stream",
     "text": [
      "                   all        325       1509      0.911      0.349      0.801       0.55\n"
     ]
    },
    {
     "name": "stderr",
     "output_type": "stream",
     "text": [
      "\n"
     ]
    },
    {
     "name": "stdout",
     "output_type": "stream",
     "text": [
      "\n",
      "      Epoch    GPU_mem   box_loss   cls_loss   dfl_loss  Instances       Size\n"
     ]
    },
    {
     "name": "stderr",
     "output_type": "stream",
     "text": [
      "        2/3      2.39G      1.063      1.205       1.22         92        640: 100%|██████████| 70/70 [01:15<00:00,  1.08s/it]\n",
      "                 Class     Images  Instances      Box(P          R      mAP50  mAP50-95): 100%|██████████| 11/11 [00:11<00:00,  1.00s/it]"
     ]
    },
    {
     "name": "stdout",
     "output_type": "stream",
     "text": [
      "                   all        325       1509       0.83      0.814      0.886      0.635\n"
     ]
    },
    {
     "name": "stderr",
     "output_type": "stream",
     "text": [
      "\n"
     ]
    },
    {
     "name": "stdout",
     "output_type": "stream",
     "text": [
      "\n",
      "      Epoch    GPU_mem   box_loss   cls_loss   dfl_loss  Instances       Size\n"
     ]
    },
    {
     "name": "stderr",
     "output_type": "stream",
     "text": [
      "        3/3      2.36G     0.9639      1.042      1.158        139        640: 100%|██████████| 70/70 [01:20<00:00,  1.16s/it]\n",
      "                 Class     Images  Instances      Box(P          R      mAP50  mAP50-95): 100%|██████████| 11/11 [00:12<00:00,  1.17s/it]"
     ]
    },
    {
     "name": "stdout",
     "output_type": "stream",
     "text": [
      "                   all        325       1509      0.891      0.835      0.916      0.665\n"
     ]
    },
    {
     "name": "stderr",
     "output_type": "stream",
     "text": [
      "\n"
     ]
    },
    {
     "name": "stdout",
     "output_type": "stream",
     "text": [
      "\n",
      "3 epochs completed in 0.076 hours.\n",
      "Optimizer stripped from D:\\DS\\Projects\\DL\\Workplace-Safety-Detection-CV\\artifacts\\model_preparation_and_training\\yolov8n_training\\weights\\last.pt, 6.2MB\n",
      "Optimizer stripped from D:\\DS\\Projects\\DL\\Workplace-Safety-Detection-CV\\artifacts\\model_preparation_and_training\\yolov8n_training\\weights\\best.pt, 6.2MB\n",
      "\n",
      "Validating D:\\DS\\Projects\\DL\\Workplace-Safety-Detection-CV\\artifacts\\model_preparation_and_training\\yolov8n_training\\weights\\best.pt...\n",
      "Ultralytics 8.3.65  Python-3.10.16 torch-2.5.1+cu124 CUDA:0 (NVIDIA GeForce GTX 1050 Ti, 4096MiB)\n",
      "Model summary (fused): 168 layers, 3,007,208 parameters, 0 gradients, 8.1 GFLOPs\n"
     ]
    },
    {
     "name": "stderr",
     "output_type": "stream",
     "text": [
      "                 Class     Images  Instances      Box(P          R      mAP50  mAP50-95): 100%|██████████| 11/11 [00:14<00:00,  1.36s/it]\n"
     ]
    },
    {
     "name": "stdout",
     "output_type": "stream",
     "text": [
      "                   all        325       1509      0.891      0.836      0.917      0.665\n",
      "                 Boots        245        539      0.927      0.831      0.918       0.62\n",
      "                Helmet        231        272      0.917      0.809      0.917      0.629\n",
      "                Person        245        301      0.854      0.832      0.918      0.749\n",
      "                  Vest        306        397      0.867      0.872      0.913       0.66\n",
      "Speed: 0.5ms preprocess, 8.8ms inference, 0.0ms loss, 4.3ms postprocess per image\n",
      "Results saved to \u001b[1mD:\\DS\\Projects\\DL\\Workplace-Safety-Detection-CV\\artifacts\\model_preparation_and_training\\yolov8n_training\u001b[0m\n",
      "Deleted file: yolo11n.pt\n"
     ]
    }
   ],
   "source": [
    "try:\n",
    "    config = ConfigurationManager()\n",
    "    model_preparation_and_training_config = config.get_model_preparation_and_training_config()\n",
    "    model_preparation_and_training = YOLOModelTrainer(config=model_preparation_and_training_config)\n",
    "    model_preparation_and_training.prepare_and_train_yolo_model()\n",
    "except Exception as e:\n",
    "    raise e"
   ]
  }
 ],
 "metadata": {
  "kernelspec": {
   "display_name": "WSDCV",
   "language": "python",
   "name": "python3"
  },
  "language_info": {
   "codemirror_mode": {
    "name": "ipython",
    "version": 3
   },
   "file_extension": ".py",
   "mimetype": "text/x-python",
   "name": "python",
   "nbconvert_exporter": "python",
   "pygments_lexer": "ipython3",
   "version": "3.10.16"
  }
 },
 "nbformat": 4,
 "nbformat_minor": 2
}
