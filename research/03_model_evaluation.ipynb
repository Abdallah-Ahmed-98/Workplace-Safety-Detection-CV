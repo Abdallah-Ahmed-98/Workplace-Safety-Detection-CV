{
 "cells": [
  {
   "cell_type": "code",
   "execution_count": 1,
   "metadata": {},
   "outputs": [],
   "source": [
    "import os"
   ]
  },
  {
   "cell_type": "code",
   "execution_count": 2,
   "metadata": {},
   "outputs": [
    {
     "data": {
      "text/plain": [
       "'d:\\\\DS\\\\Projects\\\\DL\\\\Workplace-Safety-Detection-CV\\\\research'"
      ]
     },
     "execution_count": 2,
     "metadata": {},
     "output_type": "execute_result"
    }
   ],
   "source": [
    "%pwd"
   ]
  },
  {
   "cell_type": "code",
   "execution_count": 3,
   "metadata": {},
   "outputs": [],
   "source": [
    "os.chdir(\"../\")"
   ]
  },
  {
   "cell_type": "code",
   "execution_count": 4,
   "metadata": {},
   "outputs": [
    {
     "data": {
      "text/plain": [
       "'d:\\\\DS\\\\Projects\\\\DL\\\\Workplace-Safety-Detection-CV'"
      ]
     },
     "execution_count": 4,
     "metadata": {},
     "output_type": "execute_result"
    }
   ],
   "source": [
    "%pwd"
   ]
  },
  {
   "cell_type": "code",
   "execution_count": 5,
   "metadata": {},
   "outputs": [],
   "source": [
    "from dataclasses import dataclass\n",
    "from pathlib import Path\n",
    "\n",
    "@dataclass(frozen=True)\n",
    "class EvaluationConfig:\n",
    "    root_dir: Path                      \n",
    "    data_yaml_file: Path\n",
    "    best_model: Path"
   ]
  },
  {
   "cell_type": "code",
   "execution_count": 6,
   "metadata": {},
   "outputs": [],
   "source": [
    "import os\n",
    "from CV.constants import *\n",
    "from CV.utils.common import read_yaml, create_directories\n",
    "from CV.entity.config_entity import EvaluationConfig\n",
    "\n",
    "\n",
    "class ConfigurationManager:\n",
    "    def __init__(\n",
    "        self,\n",
    "        config_filepath = CONFIG_FILE_PATH,\n",
    "        params_filepath = PARAMS_FILE_PATH):\n",
    "\n",
    "        self.config = read_yaml(config_filepath)\n",
    "        self.params = read_yaml(params_filepath)\n",
    "\n",
    "        create_directories([self.config.artifacts_root])\n",
    "\n",
    "    \n",
    "    def get_evaluation_config(self) -> EvaluationConfig:\n",
    "\n",
    "        evaluation = self.config.evaluation\n",
    "        \n",
    "        create_directories([\n",
    "            Path(evaluation.root_dir)\n",
    "        ])\n",
    "\n",
    "        eval_config = EvaluationConfig(\n",
    "            root_dir=Path(evaluation.root_dir),\n",
    "            data_yaml_file=Path(evaluation.data_yaml_file),\n",
    "            best_model=Path(evaluation.best_model),\n",
    "        )\n",
    "        return eval_config"
   ]
  },
  {
   "cell_type": "code",
   "execution_count": 14,
   "metadata": {},
   "outputs": [],
   "source": [
    "from pathlib import Path\n",
    "import os\n",
    "from CV.entity.config_entity import EvaluationConfig\n",
    "from ultralytics import YOLO\n",
    "\n",
    "\n",
    "import numpy as np\n",
    "\n",
    "\n",
    "class Evaluation:\n",
    "    def __init__(self, config: EvaluationConfig):\n",
    "        self.config = config\n",
    "\n",
    "    def evaluation(self):\n",
    "\n",
    "        best_model_path = self.config.best_model\n",
    "\n",
    "        # Load Best model\n",
    "        try:\n",
    "            best_model = YOLO(best_model_path)\n",
    "        except FileNotFoundError as e:\n",
    "            raise FileNotFoundError(f\"Best model file not found at {best_model_path}\") from e\n",
    "\n",
    "\n",
    "        # Dynamically resolve the output directory\n",
    "        base_dir = Path(os.getcwd()).resolve()  # Get the directory of the script\n",
    "        output_dir = base_dir / self.config.root_dir\n",
    "\n",
    "        # Ensure the output directory exists\n",
    "        output_dir.mkdir(parents=True, exist_ok=True)\n",
    "\n",
    "        # Train the YOLO model\n",
    "        try:\n",
    "            # Train the model\n",
    "            best_model.val(\n",
    "                data=self.config.data_yaml_file,\n",
    "                workers=0,  # Avoid multiprocessing issues\n",
    "                project=str(output_dir),  # Convert Path to string for YOLOv8\n",
    "                name=\"yolov8n_evaluation\"  # Custom name for this run\n",
    "            )\n",
    "        except Exception as e:\n",
    "                raise e"
   ]
  },
  {
   "cell_type": "code",
   "execution_count": 15,
   "metadata": {},
   "outputs": [
    {
     "name": "stdout",
     "output_type": "stream",
     "text": [
      "[2025-01-22 21:42:16,001: INFO: common: yaml file: config\\config.yaml loaded successfully]\n"
     ]
    },
    {
     "name": "stdout",
     "output_type": "stream",
     "text": [
      "[2025-01-22 21:42:16,021: INFO: common: yaml file: params.yaml loaded successfully]\n",
      "[2025-01-22 21:42:16,021: INFO: common: created directory at: artifacts]\n",
      "[2025-01-22 21:42:16,021: INFO: common: created directory at: artifacts\\evaluation]\n",
      "Ultralytics 8.3.65  Python-3.10.16 torch-2.5.1+cu124 CUDA:0 (NVIDIA GeForce GTX 1050 Ti, 4096MiB)\n",
      "Model summary (fused): 168 layers, 3,007,208 parameters, 0 gradients, 8.1 GFLOPs\n"
     ]
    },
    {
     "name": "stderr",
     "output_type": "stream",
     "text": [
      "\u001b[34m\u001b[1mval: \u001b[0mScanning D:\\DS\\Projects\\DL\\Workplace-Safety-Detection-CV\\artifacts\\data_ingestion\\Workplace-Safety-Dataset\\valid\\labels.cache... 325 images, 0 backgrounds, 0 corrupt: 100%|██████████| 325/325 [00:00<?, ?it/s]\n",
      "                 Class     Images  Instances      Box(P          R      mAP50  mAP50-95): 100%|██████████| 21/21 [00:11<00:00,  1.83it/s]\n"
     ]
    },
    {
     "name": "stdout",
     "output_type": "stream",
     "text": [
      "                   all        325       1509       0.89      0.835      0.917      0.666\n",
      "                 Boots        245        539      0.927      0.831      0.919      0.622\n",
      "                Helmet        231        272      0.917      0.808      0.917      0.632\n",
      "                Person        245        301      0.851      0.833      0.918      0.749\n",
      "                  Vest        306        397      0.865      0.869      0.913      0.659\n",
      "Speed: 0.6ms preprocess, 9.6ms inference, 0.0ms loss, 2.1ms postprocess per image\n",
      "Results saved to \u001b[1mD:\\DS\\Projects\\DL\\Workplace-Safety-Detection-CV\\artifacts\\evaluation\\yolov8n_evaluation2\u001b[0m\n"
     ]
    }
   ],
   "source": [
    "try:\n",
    "    config = ConfigurationManager()\n",
    "    eval_config = config.get_evaluation_config()\n",
    "    evaluation = Evaluation(eval_config)\n",
    "    evaluation.evaluation()\n",
    "except Exception as e:\n",
    "   raise e"
   ]
  }
 ],
 "metadata": {
  "kernelspec": {
   "display_name": "WSDCV",
   "language": "python",
   "name": "python3"
  },
  "language_info": {
   "codemirror_mode": {
    "name": "ipython",
    "version": 3
   },
   "file_extension": ".py",
   "mimetype": "text/x-python",
   "name": "python",
   "nbconvert_exporter": "python",
   "pygments_lexer": "ipython3",
   "version": "3.10.16"
  },
  "orig_nbformat": 4
 },
 "nbformat": 4,
 "nbformat_minor": 2
}
