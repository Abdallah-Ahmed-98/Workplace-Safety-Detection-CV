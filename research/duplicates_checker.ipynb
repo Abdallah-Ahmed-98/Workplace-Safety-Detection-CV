{
 "cells": [
  {
   "cell_type": "code",
   "execution_count": 1,
   "metadata": {},
   "outputs": [
    {
     "name": "stdout",
     "output_type": "stream",
     "text": [
      "Removed duplicate: download-3-_jpeg_jpg.rf.f99d87c14619d35ceb5da05bdb7b40dc.jpg (Original: download-3-_jpeg_jpg.rf.7eae169e810ddec11b970a4a3f0a5019.jpg)\n",
      "Removed duplicate: image_181_jpg.rf.52cf3de191a31cd77ead055a01b73c97.jpg (Original: image_181_jpg.rf.4693995f3fe0e9db43aa6be023f6c812.jpg)\n",
      "Removed duplicate: image_183_jpg.rf.dff546ab6afb41f292edc0776dc632d3.jpg (Original: image_183_jpg.rf.868bfb2f11d0dbb63d3b95c0d8e0ba83.jpg)\n",
      "Removed duplicate: image_199_jpg.rf.c19112d285b280f14569100c26b7a949.jpg (Original: image_199_jpg.rf.9fdc6cef7a44cfd4e79faa2dc6553aea.jpg)\n",
      "Removed duplicate: image_212_jpg.rf.6d673ce8c60719058af1a34dfb05f97d.jpg (Original: image_212_jpg.rf.31fdb53d746d40965f156acac6451d23.jpg)\n",
      "Removed duplicate: image_212_jpg.rf.db0cc7d579a6dd55cf98a9cc51704d0f.jpg (Original: image_212_jpg.rf.0abb5832f665e59fdfdea826a26e76b4.jpg)\n",
      "Removed duplicate: KakaoTalk_20221018_001425789_06_jpg.rf.a4657976a595b2d49226a1104a7fdd98.jpg (Original: KakaoTalk_20221018_001425789_06_jpg.rf.817a8fe4e04c4bb46c12834d95e1e82d.jpg)\n",
      "Total duplicates removed: 7\n"
     ]
    }
   ],
   "source": [
    "import os\n",
    "import hashlib\n",
    "import shutil\n",
    "\n",
    "# Helper function to calculate the hash of a file\n",
    "def calculate_hash(file_path):\n",
    "    hasher = hashlib.md5()\n",
    "    with open(file_path, 'rb') as f:\n",
    "        buf = f.read()\n",
    "        hasher.update(buf)\n",
    "    return hasher.hexdigest()\n",
    "\n",
    "# Detect duplicates\n",
    "def find_duplicates(images_dir):\n",
    "    hash_map = {}\n",
    "    duplicates = []\n",
    "    \n",
    "    for image_file in os.listdir(images_dir):\n",
    "        image_path = os.path.join(images_dir, image_file)\n",
    "        if os.path.isfile(image_path):\n",
    "            file_hash = calculate_hash(image_path)\n",
    "            if file_hash in hash_map:\n",
    "                duplicates.append((image_file, hash_map[file_hash]))\n",
    "            else:\n",
    "                hash_map[file_hash] = image_file\n",
    "                \n",
    "    return duplicates\n",
    "\n",
    "# Remove duplicates and their labels\n",
    "def remove_duplicates(images_dir, labels_dir):\n",
    "    duplicates = find_duplicates(images_dir)\n",
    "    for duplicate, original in duplicates:\n",
    "        # Paths for duplicate image and its label\n",
    "        duplicate_image_path = os.path.join(images_dir, duplicate)\n",
    "        duplicate_label_path = os.path.join(labels_dir, duplicate.replace('.jpg', '.txt'))\n",
    "        \n",
    "        # Remove the duplicate image and its label if they exist\n",
    "        if os.path.exists(duplicate_image_path):\n",
    "            os.remove(duplicate_image_path)\n",
    "        if os.path.exists(duplicate_label_path):\n",
    "            os.remove(duplicate_label_path)\n",
    "        \n",
    "        print(f\"Removed duplicate: {duplicate} (Original: {original})\")\n",
    "    \n",
    "    print(f\"Total duplicates removed: {len(duplicates)}\")\n",
    "\n",
    "\n",
    "# Directories for images and labels\n",
    "images_dir = \"data/train/images\"  # Replace with your images directory\n",
    "labels_dir = \"data/train/labels\"  # Replace with your labels directory\n",
    "\n",
    "# Run the script\n",
    "remove_duplicates(images_dir, labels_dir)\n"
   ]
  },
  {
   "cell_type": "code",
   "execution_count": 2,
   "metadata": {},
   "outputs": [
    {
     "name": "stdout",
     "output_type": "stream",
     "text": [
      "Total duplicates removed: 0\n"
     ]
    }
   ],
   "source": [
    "# Directories for images and labels\n",
    "images_dir = \"data/test/images\"  # Replace with your images directory\n",
    "labels_dir = \"data/test/labels\"  # Replace with your labels directory\n",
    "\n",
    "# Run the script\n",
    "remove_duplicates(images_dir, labels_dir)\n"
   ]
  },
  {
   "cell_type": "code",
   "execution_count": 3,
   "metadata": {},
   "outputs": [
    {
     "name": "stdout",
     "output_type": "stream",
     "text": [
      "Removed duplicate: image_202_jpg.rf.8dcc18c2a64fee258e34732d9c625a97.jpg (Original: image_202_jpg.rf.5b279d2106ba531ef5104d660aedfc7c.jpg)\n",
      "Total duplicates removed: 1\n"
     ]
    }
   ],
   "source": [
    "# Directories for images and labels\n",
    "images_dir = \"data/valid/images\"  # Replace with your images directory\n",
    "labels_dir = \"data/valid/labels\"  # Replace with your labels directory\n",
    "\n",
    "# Run the script\n",
    "remove_duplicates(images_dir, labels_dir)\n"
   ]
  }
 ],
 "metadata": {
  "kernelspec": {
   "display_name": "WSDCV",
   "language": "python",
   "name": "python3"
  },
  "language_info": {
   "codemirror_mode": {
    "name": "ipython",
    "version": 3
   },
   "file_extension": ".py",
   "mimetype": "text/x-python",
   "name": "python",
   "nbconvert_exporter": "python",
   "pygments_lexer": "ipython3",
   "version": "3.10.16"
  }
 },
 "nbformat": 4,
 "nbformat_minor": 2
}
